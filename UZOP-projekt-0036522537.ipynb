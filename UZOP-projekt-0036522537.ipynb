{
 "cells": [
  {
   "cell_type": "markdown",
   "metadata": {},
   "source": [
    "# UZOP projekt 2022./23.\n",
    "Ova Jupyter bilježnica rezultat je projektnog rada u sklopu kolegija Uvod u znanost podacima na FER-u, ak. god. 2022./23. U sklopu projektnog zadatka zadan je članak s određenom temom iz područja znanosti o podacima, skupa sa svojim podacima koje je potrebno pripremiti, pomoću njih replicirati rezultate rada u članku te naposlijetku predložiti eventualna poboljšanja. U poglavljima koja slijede svi su ovi koraci prikazani uz prikladna objašnjenja.\n",
    "\n",
    "Autor članka \"Predicting NBA shots\" na kojem se temelji ovaj projekt je Brett Meehan sa sveučilišta Stanford u SAD-u. Članak je javno dostupan na povzenici: http://cs229.stanford.edu/proj2017/final-reports/5132133.pdf. Članak istražuje primjenu različitih algoritama strojnog učenja na problem predviđanja uspješnosti bacanja igrača u NBA ligi."
   ]
  },
  {
   "cell_type": "markdown",
   "metadata": {},
   "source": [
    "## 1. Priprema i vizualizacija podataka\n",
    "Prije bilo kakvog rada s podacima, potrebno je upoznati se s njima kako bismo ih mogli ispravno prikazati, koristiti i na temelju njih nešto zaključiti. Korištenje tzv. sirovih podataka u statističkoj analizi bez dubljeg promišljanja o njima može prouzročiti razne probleme, samo neki od kojih su neispravno postavljanje cilja analize, rušenje algoritama strojnog učenja te na koncu i donošenje neispravnih zaključaka.\n",
    "\n",
    "Priprema podataka podrazumijeva njihovu pripremu za daljnju analizu. Tek nakon provedene pripreme možemo podatke organizirati i eventualno upotpuniti ukoliko ima nedostajućih vrijednosti. Naposlijetku je podatke poželjno vizualizirati."
   ]
  },
  {
   "cell_type": "markdown",
   "metadata": {},
   "source": [
    "### 1.1 Učitavanje osnovnih biblioteka\n"
   ]
  },
  {
   "cell_type": "code",
   "execution_count": 2,
   "metadata": {},
   "outputs": [],
   "source": [
    "import numpy as np\n",
    "import pandas as pd"
   ]
  },
  {
   "cell_type": "markdown",
   "metadata": {},
   "source": [
    "### 1.2 Učitavanje podataka\n",
    "Podaci su nam dostupni u obliku CSV datoteke `shot_logs.csv`."
   ]
  },
  {
   "cell_type": "code",
   "execution_count": 3,
   "metadata": {},
   "outputs": [],
   "source": [
    "dataset = pd.read_csv(\"shot_logs.csv\")"
   ]
  },
  {
   "cell_type": "markdown",
   "metadata": {},
   "source": [
    "### 1.3 Početni pregled podataka"
   ]
  },
  {
   "cell_type": "code",
   "execution_count": 5,
   "metadata": {},
   "outputs": [
    {
     "data": {
      "text/plain": [
       "(128069, 21)"
      ]
     },
     "execution_count": 5,
     "metadata": {},
     "output_type": "execute_result"
    }
   ],
   "source": [
    "dataset.shape"
   ]
  }
 ],
 "metadata": {
  "kernelspec": {
   "display_name": "Python 3.10.6 64-bit ('3.10.6')",
   "language": "python",
   "name": "python3"
  },
  "language_info": {
   "codemirror_mode": {
    "name": "ipython",
    "version": 3
   },
   "file_extension": ".py",
   "mimetype": "text/x-python",
   "name": "python",
   "nbconvert_exporter": "python",
   "pygments_lexer": "ipython3",
   "version": "3.10.6"
  },
  "orig_nbformat": 4,
  "vscode": {
   "interpreter": {
    "hash": "884f344c0495a4dcf12632fc13fd4dbc72eea468024915c242ae196af195ecc8"
   }
  }
 },
 "nbformat": 4,
 "nbformat_minor": 2
}
